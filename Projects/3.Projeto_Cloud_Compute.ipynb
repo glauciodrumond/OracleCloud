{
  "nbformat": 4,
  "nbformat_minor": 0,
  "metadata": {
    "colab": {
      "name": "3. PROJETO CLOUD - COMPUTE.ipynb",
      "provenance": [],
      "collapsed_sections": [],
      "authorship_tag": "ABX9TyNjxENfN6ZreJlWH/8JhssG",
      "include_colab_link": true
    },
    "kernelspec": {
      "name": "python3",
      "display_name": "Python 3"
    },
    "language_info": {
      "name": "python"
    }
  },
  "cells": [
    {
      "cell_type": "markdown",
      "metadata": {
        "id": "view-in-github",
        "colab_type": "text"
      },
      "source": [
        "<a href=\"https://colab.research.google.com/github/glauciodrumond/OracleCloud/blob/main/3.Projeto_Cloud_Compute.ipynb\" target=\"_parent\"><img src=\"https://colab.research.google.com/assets/colab-badge.svg\" alt=\"Open In Colab\"/></a>"
      ]
    },
    {
      "cell_type": "markdown",
      "source": [
        "# PROJETO CLOUD IMPLEMENTAÇÃO COMPUTE\n",
        "\n",
        "- Infraestrutura como código + Pipeline: Implementação de Recursos de Rede  e  Compute  na  Oracle  Cloud  Infrastructure  de  forma  100% automatizada usando **Github**, **Terraform Cloud** e **Terraform IAC**.\n",
        "\n",
        "\n",
        "![](https://drive.google.com/uc?export=view&id=1sBJs652n365s1fJVKphsezhNgqHxrTNx)\n",
        "\n",
        "\n"
      ],
      "metadata": {
        "id": "X_P5aVE7c17N"
      }
    },
    {
      "cell_type": "markdown",
      "source": [
        "# Contextualização\n",
        "\n",
        "Imagine que você está entrando em uma empresa que é especializada em vendas de móveis de luxo, para trabalhar como **Especialista** em **Cloud**.\n",
        "\n",
        "Depois de iniciar os trabalhos,essa empresa pediu para que você fizesse o provisionamento de uma **infraestrutura** para hostear o **website niture**,fazendo uso dos recursos de **Networking** + **Compute** da Oracle Cloud Infrastructure.\n",
        "\n",
        "Só que o Gestor dessa empresa, tem um midset de infraestrutura como código extremamente elevado e todas as implementações **não** devem ser feitas pela console, e sim, via código.\n",
        "\n",
        "É isso mesmo. Nesse projeto, é assim que avançaremos.\n",
        "\n",
        "Preparadoparaimplementaresseprojeto?Tenhototalcertezaquesim.#pracimabootcamper#missãodadaémissãocumpridaProjeto Cloud Implementação Compute "
      ],
      "metadata": {
        "id": "SB7OrNejeDao"
      }
    },
    {
      "cell_type": "markdown",
      "source": [
        "## Pré - requisitos\n",
        "\n",
        "Durante a implementação, você fará uso das ferramentas principais que o mercado e essa empresa utiliza,que são:\n",
        "\n",
        "* **Github**: designado para termos os códigos do Terraform armazenados em um repositório e não na máquina de um Especialista em Cloud ou um Desenvolvedor.\n",
        "\n",
        "* **Terraform Cloud**: designado para ser o nosso suporte, ter a execução do código do Terraform e armazenar o estado da infraestrutura.\n",
        "\n",
        "* **Terraform IAC**:designado para fazer a parte da infraestrutura como código."
      ],
      "metadata": {
        "id": "Zs4MVoOheDX7"
      }
    },
    {
      "cell_type": "markdown",
      "source": [
        "###Pré-requisitos\n",
        "\n",
        "Fazer o download do VS Code\n",
        "\n",
        "https://code.visualstudio.com/download\n",
        "\n",
        "Criar Conta Github e repositório\n",
        "\n",
        "https://github.com/\n",
        "\n",
        "1. Clicar em Sign Up para criar a sua conta gratuita.\n",
        "\n",
        "2. Concluída essa etapa, na tela inicial do Github, faça a criação de um repositório.\n",
        "- Clique em New\n",
        "- Informe o nome do seu repositório\n",
        "      Name: niture\n",
        "- Selecione private \n",
        "- Clique em Create repository.\n",
        "\n",
        "3. Criar Conta Gratuita no Terraform Cloud\n",
        "- Acessar https://www.terraform.io/cloud\n",
        "- Clicar em Create account.\n",
        "- Insira as informações de username, e-mail e senha, aceite os termos e clique em Create account.\n",
        "- Acesse o seu e-mail para fazer a confirmação do endereço de e-mail\n",
        "- Ao abrir o e-mail, clique no link que receber e siga os próximos passos.\n",
        "\n",
        "\n",
        "\n"
      ],
      "metadata": {
        "id": "UGIX4bZ2eDRO"
      }
    },
    {
      "cell_type": "markdown",
      "source": [
        "# Implementação\n",
        "\n",
        "\n",
        "## Criar usuário IAM para automação do Terrafom\n",
        "\n",
        "* Passo 1: Menu Hambúrguer da Console > Seção Governance > Identity > Users > Create New User\n",
        "   * Informações Usuário Terraform:\n",
        "      - User Type: IAM User\n",
        "      - Name: terraform\n",
        "      - Description: Usuário usado pelo terraform\n",
        "      - Clicar em Create\n",
        "\n",
        "* Passo 2: Adicionar usuário no grupo Administrators:\n",
        "    - Em Groups, clicar em Add User to Group\n",
        "    - Selecionar Administrators\n",
        "    - Clicar em Add\n",
        "\n",
        "* Passo 3: Gerar uma API Key:\n",
        "   - Em Resources, clicar em API Keys\n",
        "   - Feito isso, clique em Add API Key\n",
        "   - Mantenha selecionado Generate API Key Pair\n",
        "   - Clicar em Download Private Key\n",
        "   - Clicar em Add\n",
        "   - Copiar todas as informações de autenticação exibidas e salvar em um bloco de notas.\n",
        "   - Clicar em Close.\n",
        "\n",
        "* Passo 4: Baixar e descompactar os Arquivos do Terraform\n",
        "\n",
        "\n",
        "```\n",
        "curl -O https://objectstorage.us-ashburn-1.oraclecloud.com/p/0VnpyKVD6kLC7lRo1B9jYQunUj6lhTRw-yO-C6IgSt25Furu2fVgW8zrezV2NYDD/n/idqfa2z2mift/b/bootcamp-oci/o/oci-f-handson-modulo-compute-terraform.zip`\n",
        "```\n",
        "\n",
        "- unzip oci-f-handson-modulo-compute-terraform.zip \n",
        "\n",
        "- Abrir a pasta que descompactou o arquivo no VS Code\n",
        "\n",
        "- Criar o arquivo .gitignore com o conteúdo abaixo:\n",
        "\n",
        "```\n",
        ".terraform\n",
        ".terraform.lock.hcl\n",
        "terraform.tfstate\n",
        "terraform.tfstate.backup\n",
        "```\n",
        "- No VS Code, na aba Terminal, clique em New Terminal \n",
        "\n",
        "- No terminal, execute o comando abaixo para inicializar o diretório com o objetivo de se tornar um repositório Git.\n",
        "\n",
        "`git init`\n",
        "\n",
        "- Fazer git add, commit e push para criar um novo repositório pela linha de comando\n",
        "```\n",
        "git add - A\n",
        "git commit -m \"first commit\"\n",
        "git branch -M main\n",
        "git remote add origin <url-do-seu-repositório-no-github>\n",
        "```\n",
        "\n",
        "## Confirme que deseja plugar o Github com o VS code para se autenticar.\n",
        "\n",
        "`git push -u origin main`\n",
        "\n",
        "- Configurar **Terraform Cloud**\n",
        "\n",
        "    - Criar New Organization (Nome-da-empresa)\n",
        "\n",
        "    - Criar Workspace\n",
        "\n",
        "       Workflow Type: Version control workflow\n",
        "       Clicar em Github\n",
        "       Se autentique com a sua conta no Github\n",
        "       Selecione o repositório niture que criou\n",
        "       Clicar em Create workspace.\n",
        "\n",
        "    - Configurar variáveis de ambiente para o Terraform se autenticar na OCI\n",
        "       Clicar em Configure variables\n",
        "       Em Terraform Variables, clicar em Add variables para adicionar algumas variáveis\n",
        "  \n",
        "Keys para adicionar (Em Itálico)\n",
        "\n",
        "       tenancy_ocid\n",
        "\n",
        "## Em Value, inserir a tenancy_ocid que armazenou no seu bloco de notas.\n",
        "\n",
        "Marcar como Sensitive\n",
        "\n",
        "Clicar em Save variable\n",
        "\n",
        "Repetir o processo para todas as variáveis\n",
        "\n",
        "       compartment_ocid\n",
        "       user_ocid\n",
        "       fingerprint\n",
        "       region\n",
        "       private_key\n",
        "\n",
        "* Abrir a private key que realizou o download, copiar o conteúdo e inserir em Value\n",
        "* Certifique-se de no início estar `----- BEGIN PRIVATE KEY-----` e no final estar `-----END PRIVATE KEY-----`\n",
        "\n",
        "       `ssh_public_key`\n",
        "       \n",
        "OBS: Para gerar chave SSH, abrir gitbash e rodar ssh-keygen\n",
        "\n",
        "* Com a chave gerada, copiar o conteúdo sem a informação do usuário que gerou e colar em Value\n",
        "\n",
        "* Marcar Sensitive\n",
        "\n",
        "* Clicar em Save variable.\n",
        "\n",
        "- Rodar e Aprovar plano no Terraform Cloud\n",
        "\n",
        "- Quando VM tiver rodando, realizar deploy do website executando os comandos abaixo:\n",
        "\n",
        "### comando para acessar a VM via SSH\n",
        "`ssh opc@<ip-público-da-VM> -i <chave-privada-gerada>`\n",
        "\n",
        "### Comando para fazer o download dos arquivos do website e realizar o deploy\n",
        "\n",
        "```\n",
        "wget https://objectstorage.us-ashburn-1.oraclecloud.com/p/_taLFTuy_AYrS2PloNwMKVGI-pXqJLjeOC_iXNrutee9xXYuOYMBcqlK8SQO_QuH/n/idqfa2z2mift/b/bootcamp-oci/o/deploy_niture.sh\n",
        "chmod +x deploy_niture.sh\n",
        "./deploy_niture.sh\n",
        "```\n",
        "\n",
        "\n",
        "**Deploy concluído com sucesso!!**"
      ],
      "metadata": {
        "id": "_boOQ2XheDOY"
      }
    },
    {
      "cell_type": "markdown",
      "source": [
        "![](https://drive.google.com/uc?export=view&id=1un7xfSsHMSA6Jyvjzh7fYiEeciPQ9MFC)"
      ],
      "metadata": {
        "id": "1xfCgPzRqxaR"
      }
    },
    {
      "cell_type": "markdown",
      "source": [
        "![](https://drive.google.com/uc?export=view&id=16Nc8WWBjaQYlS9H1LIC5aX-0ARysueXf)"
      ],
      "metadata": {
        "id": "LsiDhYpzq0e5"
      }
    },
    {
      "cell_type": "markdown",
      "source": [
        "![](https://drive.google.com/uc?export=view&id=15GECBhk5hVBlZyjnUW-DNuxdBGafM28K)"
      ],
      "metadata": {
        "id": "G4PZULcNq1vA"
      }
    }
  ]
}
