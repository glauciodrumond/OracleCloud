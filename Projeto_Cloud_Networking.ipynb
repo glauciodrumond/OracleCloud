{
  "nbformat": 4,
  "nbformat_minor": 0,
  "metadata": {
    "colab": {
      "name": "PROJETO CLOUD IMPLEMENTAÇÃO NETWORKING.ipynb",
      "provenance": [],
      "collapsed_sections": [],
      "toc_visible": true,
      "mount_file_id": "1-Ynk8HqwcsJGhlLsgkzu_BgOJLvqhHhG",
      "authorship_tag": "ABX9TyMTnSfND22QqGBXv41mrzHh",
      "include_colab_link": true
    },
    "kernelspec": {
      "name": "python3",
      "display_name": "Python 3"
    },
    "language_info": {
      "name": "python"
    }
  },
  "cells": [
    {
      "cell_type": "markdown",
      "metadata": {
        "id": "view-in-github",
        "colab_type": "text"
      },
      "source": [
        "<a href=\"https://colab.research.google.com/github/glauciodrumond/OracleCloud/blob/main/Projeto_Cloud_Networking.ipynb\" target=\"_parent\"><img src=\"https://colab.research.google.com/assets/colab-badge.svg\" alt=\"Open In Colab\"/></a>"
      ]
    },
    {
      "cell_type": "markdown",
      "source": [
        "# **PROJETO CLOUD IMPLEMENTAÇÃO NETWORKING - OCI**\n",
        "\n",
        "IMPLEMENTAÇÃO DE CONTROLE DE COMUNICAÇÃO DE REDE NA ORACLE CLOUD INFRASTRUCTURE(OCI) COM VIRTUAL CLOUD NETWORK(VCN), SUBREDES DISTINTAS E SECURITY LISTS COM REGRAS ESPECÍFICAS PARA CADA SUBREDE.\n",
        "\n",
        "* **Projeto realizado no curso da:**<br>\n",
        "[<img src=\"https://thecloudbootcamp.com/wp-content/uploads/2020/09/The-Cloud-Bootcamp-big-transparent-1024x1024.png.webp\" alt=\"drawing\" width=\"400\" align=\"center\"/>](https://thecloudbootcamp.com/)\n",
        "<br><img src=\"https://miro.medium.com/max/800/0*-nyd8VIUz-CqGR5B.png\" alt=\"drawing\" width=\"600\" align=\"center\"/>\n"
      ],
      "metadata": {
        "id": "4_EOVH8VWNKz"
      }
    },
    {
      "cell_type": "markdown",
      "source": [
        "# Contextualização\n",
        "\n",
        "\n",
        "![](https://drive.google.com/uc?export=view&id=1MDEWOZi4JwOUl5jUBy7mh9IY9hteNz1y)   \n",
        "\n",
        "<br>Imagine que você está trabalhando em um projeto de Oracle Cloud Infrastructure como Especialista em Cloud. Dentro da sua empresa,o seu Gestor de Cloud compartilhou com você a demanda de implementar o Global Financing Portal que tem como objetivo permitir que as pessoas acessem e façam, por exemplo, solicitações de reembolso. \n",
        "\n",
        "<br>Conversando com o seu Gestor, ele compartilhou com você pontos relacionados a elevação do nível de Networking da empresa. Você um conhecedor das melhores práticas, definiu os pré-requisitos:\n",
        "\n",
        "* Implementar a segmentação de rede\n",
        "    * Global Financing Portal > Subrede Financeiro\n",
        "    * Estações de Trabalho Virtual > Subrede Comercial\n",
        "\n",
        "* Utilizar os recursos da Security List, para controlar a comunicação de rede definindo regras bem específicas para cada Subrede.\n",
        "\n",
        "<br>Agora, chegou a hora de você, Especialista em Cloud, colocar a mão na massa para implementar essa demanda incrível.\n"
      ],
      "metadata": {
        "id": "cFqhboUAX8z1"
      }
    },
    {
      "cell_type": "markdown",
      "source": [
        "## Pré-requisitos\n",
        "\n",
        "Link para download do Gitbash e VNC\n",
        "\n",
        "* Gitbash:\n",
        "\n",
        "  * https://git-scm.com/downloads\n",
        "\n",
        "* VNC Viewer:\n",
        "\n",
        "  * https://www.realvnc.com/en/connect/download/viewer/\n",
        "\n"
      ],
      "metadata": {
        "id": "OdNVIhoZdHh7"
      }
    },
    {
      "cell_type": "markdown",
      "source": [
        "# Solução do Problema"
      ],
      "metadata": {
        "id": "97oXbPnzdv7H"
      }
    },
    {
      "cell_type": "markdown",
      "source": [
        "## Criação dos recursos de rede\n",
        "\n",
        "**Na console da OCI, acessar o serviço Virtual Cloud Networks**\n",
        "\n",
        "### **Certificar-se de estar no compartment para a criação dos recursos de Rede**\n",
        "* Clicar em **Create VCN** preenchendo com as informações abaixo:\n",
        "  * Name: vcn-mod3\n",
        "  * CIDR Block: 10.0.0.0/16\n",
        "  * Clicar em Create VCN\n",
        "\n",
        "### **Criar subrede-financeiro**\n",
        "\n",
        "Acessar a **VCN criada**, em **Subnets**, certificar-se de estar no compartment para a criação dos recursos de rede\n",
        "* Clicar em **Create Subnet** preenchendo com as informações abaixo:\n",
        "  * Name: subrede-financeiro\n",
        "  * CIDR Block: 10.0.1.0/24\n",
        "  * Clicar em Create Subnet\n",
        "\n",
        "### **Criar subrede-comercial**\n",
        "\n",
        "* Ainda em Subnets, clicar em **Create Subnet** preenchendo com as informações abaixo:\n",
        "  * Name: subrede-comercial\n",
        "  * CIDR Block: 10.0.2.0/24\n",
        "  * Clicar em Create Subnet"
      ],
      "metadata": {
        "id": "gAI8pQGVeNEh"
      }
    },
    {
      "cell_type": "markdown",
      "source": [
        "## Criar Security List: **sl-comercial** e **sl-financeiro**\n",
        "\n",
        "### **sl-comercial**\n",
        "\n",
        "* **Ingress:**\n",
        "\n",
        "  * Source: Inserir o Seu IP\n",
        "\n",
        "  * Exemplo: 50.89.141.235/32\n",
        "\n",
        "  * Dica: Site para verificar o Seu IP: https://www.meuip.com.br/\n",
        "\n",
        "  * Destination Port: 22\n",
        "\n",
        "* **Egress:**\n",
        "\n",
        "  * Source: 0.0.0.0/0\n",
        "\n",
        "  * Destination Port: All protocol/ports\n",
        "\n",
        "\n",
        "### **sl-financeiro**\n",
        "\n",
        "* **Primeira Ingress rule:**\n",
        "\n",
        "  * Source: Inserir o Seu IP\n",
        "\n",
        "  * Exemplo: 50.89.141.235/32\n",
        "\n",
        "  * Dica: Site para verificar o Seu IP: https://www.meuip.com.br/\n",
        "\n",
        "* **Segunda Ingress Rule:**\n",
        "\n",
        "  * Destination Port: 22\n",
        "\n",
        "  * Source: 10.0.2.0/24\n",
        "\n",
        "  * Destination Port: 80\n",
        "\n",
        "* **Egress:**\n",
        "\n",
        "  * Source: 0.0.0.0/0\n",
        "\n",
        "  * Destination Port: All protocol/ports\n",
        "\n",
        "### **Associar Security Lists às Subredes**\n",
        "\n",
        "  * sl-comercial -> subrede-comercial\n",
        "\n",
        "  * sl-financeiro -> subrede-financeiro\n",
        "\n",
        "  * **Remover** Default Security List de subrede-comercial e subrede-financeiro"
      ],
      "metadata": {
        "id": "Jqw3F2PcgpM_"
      }
    },
    {
      "cell_type": "markdown",
      "source": [
        "## **Criar Internet Gateway**\n",
        "\n",
        "* Na VCN criada, em Internet Gateways, certificar-se de estar no compartment para a criação dos recursos de rede\n",
        "* Clicar em **Create Internet Gateway** preenchendo com as informações abaixo:\n",
        "  * Name: internet-gw-mod3\n",
        "  * CIDR Block: 10.0.1.0/24\n",
        "  * Clicar em Create Subnet\n",
        "\n",
        "* Adicionar rota com destino ao Internet Gateway\n",
        "  * Target Type: Internet Gateway\n",
        "  * Destination CIDR Block: 0.0.0.0/0\n",
        "  * Target Internet Gateway: internet-gw-mod3\n",
        "  * Clicar em Add Route Rules"
      ],
      "metadata": {
        "id": "kf-6bM1jiV9b"
      }
    },
    {
      "cell_type": "markdown",
      "source": [
        "## Criação da Instância do Financeiro\n",
        "**Na console da OCI, acessar o serviço Instances e executar os passos abaixo:**\n",
        "* Certificar-se de estar no compartment para a criação dos recursos de Compute\n",
        "* Clicar em **Create instance**, preenchendo com as informações abaixo:\n",
        "  * **Name:** vm-financeiro\n",
        "  * **Shape/OS:** Always Free / Oracle Linux 7 ( Atenção: Não selecione Oracle Linux 8, o procedimento foi validado no Oracle Linux 7)\n",
        "  * Em **Networking**, clicar em **Edit**\n",
        "    * Na seção **Network**, selecionar **Select existing virtual cloud network**\n",
        "    * Selecionar o compartment destinado para a criação dos recursos de Rede\n",
        "    * Certificar-se da VCN **vcn-mod3** estar selecionada\n",
        "    * Na seção **Subnet**, selecionar **Select existing virtual cloud network**\n",
        "    * Selecionar o compartment destinado para a criação dos recursos de Rede\n",
        "    * Selecionar a subrede **subrede-financeiro**\n",
        "  * Em **Add SSH Keys, Generate SSH key pair**, clicar em **Save Private Key**. ( Fique alerta ao local que salvou a chave privada, pois utilizaremos ela nos próximos passos. )\n",
        "  * Clicar em **Create**.\n",
        "\n",
        "<br>**Utilizando o Gitbash, executar o comando abaixo para acessar via SSH a instância vm-financeiro**\n",
        "<br>`ssh -i <caminho-chave-privada-financeiro> opc@<ip-público-da-vm-financeiro>`\n",
        "\n",
        "<br>**Concluído o acesso à instância, executar os comandos abaixo:**\n",
        "\n",
        "```\n",
        "sudo yum install httpd -y\n",
        "sudo apachectl start\n",
        "sudo systemctl enable httpd\n",
        "sudo firewall-cmd --zone=public --add-service=http\n",
        "sudo firewall-cmd --permanent --zone=public --add-service=http\n",
        "cd /var/www/html/\n",
        "sudo wget https://objectstorage.us-ashburn-1.oraclecloud.com/p/8pVpr-wTqCWT7xuMdxWu9z5pSD5UjCYpXFaInFrhW3tmoySyD2eR2Foz6ksQWm5y/n/idqfa2z2mift/b/bootcamp-oci/o/oci-f-handson-modulo-networking-website-files.zip\n",
        "sudo unzip oci-f-handson-modulo-networking-website-files.zip\n",
        "sudo chown apache:apache *.*\n",
        "sudo rm -rf __MACOSX oci-f-handson-modulo-networking-website-files.zip\n",
        "\n",
        "```"
      ],
      "metadata": {
        "id": "54Fsej8Ki9R1"
      }
    },
    {
      "cell_type": "markdown",
      "source": [
        "## Criação da Instância do Comercial\n",
        "**Na console da OCI, acessar o serviço Instances e executar os passos abaixo:**\n",
        "* Certificar-se de estar no compartment para a criação dos recursos de Compute\n",
        "* Clicar em **Create instance**, preenchendo com as informações abaixo:\n",
        "  * **Name:** vm-comercial\n",
        "  * **Shape/OS:** Always Free / Oracle Linux 7 ( Atenção: Não selecione Oracle Linux 8, o procedimento foi validado no Oracle Linux 7)\n",
        "  * Em **Networking**, clicar em **Edit**\n",
        "    * Na seção **Network**, selecionar **Select existing virtual cloud network**\n",
        "    * Selecionar o compartment destinado para a criação dos recursos de Rede\n",
        "    * Certificar-se da VCN **vcn-mod3** estar selecionada\n",
        "    * Na seção **Subnet**, selecionar **Select existing virtual cloud network**\n",
        "    * Selecionar o compartment destinado para a criação dos recursos de Rede\n",
        "    * Selecionar a subrede **subrede-comercial**\n",
        "  * Em **Add SSH Keys, Generate SSH key pair**, clicar em **Save Private Key**. ( Fique alerta ao local que salvou a chave privada, pois utilizaremos ela nos próximos passos. )\n",
        "  * Clicar em **Create**.\n",
        "\n",
        "<br>**Utilizando o Gitbash, executar o comando abaixo para acessar via SSH a instância vm-comercial**\n",
        "<br>`ssh -i <caminho-chave-privada-comercial> opc@<ip-público-da-vm-comercial>`\n",
        "\n",
        "<br>**Concluído o acesso à instância, executar os comandos abaixo para instalar os pacotes GUI e VNC Server:**\n",
        "\n",
        "```\n",
        "sudo  yum -y groups install \"Server with GUI\"\n",
        "sudo yum group list\n",
        "sudo yum install tigervnc-server -y\n",
        "\n",
        "```\n",
        "<br> **Executar os comandos abaixo para configurar VNC**\n",
        "\n",
        "```\n",
        "cd /lib/systemd/system/\n",
        "sudo cp vncserver@.service /etc/systemd/system/vncserver@:1.service\n",
        "sudo vi /etc/systemd/system/vncserver@:1.service\n",
        "\n",
        "```\n",
        "<br> **Alterar campo USER para opc:**\n",
        "```\n",
        "DE:\n",
        "ExecStart=/usr/bin/vncserver_wrapper <USER> %\n",
        "PARA:\n",
        "ExecStart=/usr/bin/vncserver_wrapper opc %\n",
        "```\n",
        "<br> **Executar o comando abaixo para criar senha para Acesso VNC:**\n",
        "```\n",
        "vncpasswd\n",
        "Senha: welcome1\n",
        "Em Would you like to enter a view-only? (y/n)? Insira N\n",
        "\n",
        "```\n",
        "\n",
        "<br> **Executar os comandos abaixo para configurar e subir VNC**\n",
        "```\n",
        "sudo systemctl enable vncserver@:1.service\n",
        "sudo systemctl daemon-reload\n",
        "sudo systemctl start vncserver@:1.service\n",
        "sudo systemctl status vncserver@:1.service\n",
        "\n",
        "```\n",
        "<br> **No Gitbash, executar o comando para iniciar o Tunnel SSH**\n",
        "\n",
        "```\n",
        "ssh -L 5901:localhost:5901 opc@<ip-publico-da-vm-comercial> -i <chave-privada-vm-comercial>\n",
        "\n",
        "```\n",
        "\n",
        "<br> **Acessar instância via VNC**\n",
        "\n",
        "* Inserir a senha definida para acesso ao VNC\n",
        "\n",
        "  * Na vm-comercial, abrir Firefox e testar o acesso ao portal pelo IP Privado da vm-financeiro via porta 80\n",
        "\n",
        "  * Testar acesso via SSH ao IP privado da vm-financeiro (deve ser negado)\n",
        "\n",
        "\n",
        "\n"
      ],
      "metadata": {
        "id": "1h-QUF9hlQAP"
      }
    },
    {
      "cell_type": "markdown",
      "source": [
        "## Resultado\n",
        "\n",
        "\n",
        "![](https://drive.google.com/uc?export=view&id=1-2yv2rOQ1AJ37-q_e9JDwIdUaZg_x5t-)   \n",
        "\n",
        "![](https://drive.google.com/uc?export=view&id=1ZUKXPfhsA1j-cNQrMnz7YQ0CcVnAr86K)   \n",
        "\n"
      ],
      "metadata": {
        "id": "gCcixXqzqVm1"
      }
    },
    {
      "cell_type": "markdown",
      "source": [
        "# Referências\n",
        "\n",
        "https://docs.oracle.com/en/operating-systems/oracle-linux/7/network/ol7-websvc.html#ol7-about-websvc"
      ],
      "metadata": {
        "id": "vOBf7FOfdJXh"
      }
    }
  ]
}